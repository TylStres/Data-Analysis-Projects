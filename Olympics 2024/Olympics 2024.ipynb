{
 "cells": [
  {
   "cell_type": "markdown",
   "metadata": {},
   "source": [
    "Data Analysis of the Paris 2024 Olympics: Original Work"
   ]
  },
  {
   "cell_type": "markdown",
   "metadata": {},
   "source": [
    "Importing libraries"
   ]
  },
  {
   "cell_type": "code",
   "execution_count": 35,
   "metadata": {},
   "outputs": [],
   "source": [
    "import pandas as pd\n",
    "import numpy as np\n",
    "import matplotlib.pyplot as plt\n",
    "import seaborn as sns\n",
    "import plotly.express as px\n",
    "import plotly.graph_objects as go\n",
    "\n",
    "import warnings\n",
    "warnings.filterwarnings('ignore')"
   ]
  },
  {
   "cell_type": "markdown",
   "metadata": {},
   "source": [
    "Loading the datasets of archive folder"
   ]
  },
  {
   "cell_type": "code",
   "execution_count": 36,
   "metadata": {},
   "outputs": [],
   "source": [
    "athletes_df = pd.read_csv('./archive/athletes.csv')\n",
    "events_df = pd.read_csv('./archive/events.csv')\n",
    "medallists_df = pd.read_csv('./archive/medallists.csv')\n",
    "medals_total_df = pd.read_csv('./archive/medals_total.csv')\n",
    "medals_df = pd.read_csv('./archive/medals.csv')\n",
    "schedules_preliminary_df = pd.read_csv('./archive/schedules_preliminary.csv')\n",
    "schedules_df = pd.read_csv('./archive/schedules.csv')\n",
    "teams_df = pd.read_csv('./archive/teams.csv')\n",
    "torch_route_df = pd.read_csv('./archive/torch_route.csv')\n",
    "venues_df = pd.read_csv('./archive/venues.csv')\n"
   ]
  },
  {
   "cell_type": "markdown",
   "metadata": {},
   "source": [
    "Loading the datasets of the results folder"
   ]
  },
  {
   "cell_type": "code",
   "execution_count": 37,
   "metadata": {},
   "outputs": [],
   "source": [
    "basketball_3x3_df = pd.read_csv('./archive/results/3x3 Basketball.csv')\n",
    "archery_df = pd.read_csv('./archive/results/Archery.csv')\n",
    "artistic_gymnastics_df = pd.read_csv('./archive/results/Artistic Gymnastics.csv')\n",
    "artistic_swimming_df = pd.read_csv('./archive/results/Artistic Swimming.csv')\n",
    "athletics_df = pd.read_csv('./archive/results/Athletics.csv')\n",
    "badminton_df = pd.read_csv('./archive/results/Badminton.csv')\n",
    "basketball_df = pd.read_csv('./archive/results/Basketball.csv')\n",
    "beach_volleyball_df = pd.read_csv('./archive/results/Beach Volleyball.csv')\n",
    "boxing_df = pd.read_csv('./archive/results/Boxing.csv')\n",
    "breaking_df = pd.read_csv('./archive/results/Breaking.csv')\n",
    "canoe_slalom_df = pd.read_csv('./archive/results/Canoe Slalom.csv')\n",
    "canoe_sprint_df = pd.read_csv('./archive/results/Canoe Sprint.csv')\n",
    "cycling_bmx_freestyle_df = pd.read_csv('./archive/results/Cycling BMX Freestyle.csv')\n",
    "cycling_bmx_racing_df = pd.read_csv('./archive/results/Cycling BMX Racing.csv')\n",
    "cycling_mountain_bike_df = pd.read_csv('./archive/results/Cycling Mountain Bike.csv')\n",
    "cycling_road_df = pd.read_csv('./archive/results/Cycling Road.csv')\n",
    "cycling_track_df = pd.read_csv('./archive/results/Cycling Track.csv')\n",
    "diving_df = pd.read_csv('./archive/results/Diving.csv')\n",
    "equestrian_df = pd.read_csv('./archive/results/Equestrian.csv')\n",
    "fencing_df = pd.read_csv('./archive/results/Fencing.csv')\n",
    "football_df = pd.read_csv('./archive/results/Football.csv')\n",
    "golf_df = pd.read_csv('./archive/results/Golf.csv')\n",
    "handball_df = pd.read_csv('./archive/results/Handball.csv')\n",
    "hockey_df = pd.read_csv('./archive/results/Hockey.csv')\n",
    "judo_df = pd.read_csv('./archive/results/Judo.csv')\n",
    "marathon_swimming_df = pd.read_csv('./archive/results/Marathon Swimming.csv')\n",
    "modern_pentathlon_df = pd.read_csv('./archive/results/Modern Pentathlon.csv')\n",
    "rhythmic_gymnastics_df = pd.read_csv('./archive/results/Rhythmic Gymnastics.csv')\n",
    "rowing_df = pd.read_csv('./archive/results/Rowing.csv')\n",
    "rugby_sevens_df = pd.read_csv('./archive/results/Rugby Sevens.csv')\n",
    "sailing_df = pd.read_csv('./archive/results/Sailing.csv')\n",
    "shooting_df = pd.read_csv('./archive/results/Shooting.csv')\n",
    "skateboarding_df = pd.read_csv('./archive/results/Skateboarding.csv')\n",
    "sport_climbing_df = pd.read_csv('./archive/results/Sport Climbing.csv')\n",
    "surfing_df = pd.read_csv('./archive/results/Surfing.csv')\n",
    "swimming_df = pd.read_csv('./archive/results/Swimming.csv')\n",
    "table_tennis_df = pd.read_csv('./archive/results/Table Tennis.csv')\n",
    "taekwondo_df = pd.read_csv('./archive/results/Taekwondo.csv')\n",
    "tennis_df = pd.read_csv('./archive/results/Tennis.csv')\n",
    "trampoline_gymnastics_df = pd.read_csv('./archive/results/Trampoline Gymnastics.csv')\n",
    "triathlon_df = pd.read_csv('./archive/results/Triathlon.csv')\n",
    "volleyball_df = pd.read_csv('./archive/results/Volleyball.csv')\n",
    "water_polo_df = pd.read_csv('./archive/results/Water Polo.csv')\n",
    "weightlifting_df = pd.read_csv('./archive/results/Weightlifting.csv')\n",
    "wrestling_df = pd.read_csv('./archive/results/Wrestling.csv')"
   ]
  },
  {
   "cell_type": "markdown",
   "metadata": {},
   "source": [
    "Will not be looking at results yet. These will be done individually as I perform an analysis of each sport. "
   ]
  },
  {
   "cell_type": "markdown",
   "metadata": {},
   "source": [
    "Beginning with an analysis of the athletes themselves."
   ]
  },
  {
   "cell_type": "markdown",
   "metadata": {},
   "source": [
    "First '.head()' to get a quick first look at the data itself"
   ]
  },
  {
   "cell_type": "code",
   "execution_count": 38,
   "metadata": {},
   "outputs": [
    {
     "data": {
      "text/html": [
       "<div>\n",
       "<style scoped>\n",
       "    .dataframe tbody tr th:only-of-type {\n",
       "        vertical-align: middle;\n",
       "    }\n",
       "\n",
       "    .dataframe tbody tr th {\n",
       "        vertical-align: top;\n",
       "    }\n",
       "\n",
       "    .dataframe thead th {\n",
       "        text-align: right;\n",
       "    }\n",
       "</style>\n",
       "<table border=\"1\" class=\"dataframe\">\n",
       "  <thead>\n",
       "    <tr style=\"text-align: right;\">\n",
       "      <th></th>\n",
       "      <th>code</th>\n",
       "      <th>name</th>\n",
       "      <th>name_short</th>\n",
       "      <th>name_tv</th>\n",
       "      <th>gender</th>\n",
       "      <th>function</th>\n",
       "      <th>country_code</th>\n",
       "      <th>country</th>\n",
       "      <th>country_full</th>\n",
       "      <th>nationality</th>\n",
       "      <th>...</th>\n",
       "      <th>family</th>\n",
       "      <th>lang</th>\n",
       "      <th>coach</th>\n",
       "      <th>reason</th>\n",
       "      <th>hero</th>\n",
       "      <th>influence</th>\n",
       "      <th>philosophy</th>\n",
       "      <th>sporting_relatives</th>\n",
       "      <th>ritual</th>\n",
       "      <th>other_sports</th>\n",
       "    </tr>\n",
       "  </thead>\n",
       "  <tbody>\n",
       "    <tr>\n",
       "      <th>0</th>\n",
       "      <td>1535420</td>\n",
       "      <td>VALENCIA Alejandra</td>\n",
       "      <td>VALENCIA A</td>\n",
       "      <td>Alejandra VALENCIA</td>\n",
       "      <td>Female</td>\n",
       "      <td>Athlete</td>\n",
       "      <td>MEX</td>\n",
       "      <td>Mexico</td>\n",
       "      <td>Mexico</td>\n",
       "      <td>Mexico</td>\n",
       "      <td>...</td>\n",
       "      <td>Father, Francisco Ramon Valencia Fontes. Mothe...</td>\n",
       "      <td>Spanish</td>\n",
       "      <td>National/personal: Miguel Angel Flores (MEX)</td>\n",
       "      <td>Grew up close to an archery range and was alwa...</td>\n",
       "      <td>NaN</td>\n",
       "      <td>NaN</td>\n",
       "      <td>NaN</td>\n",
       "      <td>NaN</td>\n",
       "      <td>NaN</td>\n",
       "      <td>NaN</td>\n",
       "    </tr>\n",
       "    <tr>\n",
       "      <th>1</th>\n",
       "      <td>1535429</td>\n",
       "      <td>RUIZ Angela</td>\n",
       "      <td>RUIZ A</td>\n",
       "      <td>Angela RUIZ</td>\n",
       "      <td>Female</td>\n",
       "      <td>Athlete</td>\n",
       "      <td>MEX</td>\n",
       "      <td>Mexico</td>\n",
       "      <td>Mexico</td>\n",
       "      <td>Mexico</td>\n",
       "      <td>...</td>\n",
       "      <td>Two brothers</td>\n",
       "      <td>English, Spanish</td>\n",
       "      <td>National: Miguel Angel Flores (MEX).&lt;br&gt;Person...</td>\n",
       "      <td>She followed her brothers into archery</td>\n",
       "      <td>NaN</td>\n",
       "      <td>NaN</td>\n",
       "      <td>NaN</td>\n",
       "      <td>NaN</td>\n",
       "      <td>NaN</td>\n",
       "      <td>NaN</td>\n",
       "    </tr>\n",
       "    <tr>\n",
       "      <th>2</th>\n",
       "      <td>1535430</td>\n",
       "      <td>GRANDE Matias</td>\n",
       "      <td>GRANDE M</td>\n",
       "      <td>Matias GRANDE</td>\n",
       "      <td>Male</td>\n",
       "      <td>Athlete</td>\n",
       "      <td>MEX</td>\n",
       "      <td>Mexico</td>\n",
       "      <td>Mexico</td>\n",
       "      <td>Mexico</td>\n",
       "      <td>...</td>\n",
       "      <td>Father, Nicolas</td>\n",
       "      <td>Spanish</td>\n",
       "      <td>National: David Alejandro Velez Sanchez (MEX)</td>\n",
       "      <td>His father introduced him to the sport and the...</td>\n",
       "      <td>NaN</td>\n",
       "      <td>NaN</td>\n",
       "      <td>NaN</td>\n",
       "      <td>NaN</td>\n",
       "      <td>NaN</td>\n",
       "      <td>NaN</td>\n",
       "    </tr>\n",
       "    <tr>\n",
       "      <th>3</th>\n",
       "      <td>1536460</td>\n",
       "      <td>ROJAS Carlos</td>\n",
       "      <td>ROJAS C</td>\n",
       "      <td>Carlos ROJAS</td>\n",
       "      <td>Male</td>\n",
       "      <td>Athlete</td>\n",
       "      <td>MEX</td>\n",
       "      <td>Mexico</td>\n",
       "      <td>Mexico</td>\n",
       "      <td>Mexico</td>\n",
       "      <td>...</td>\n",
       "      <td>NaN</td>\n",
       "      <td>German, Spanish</td>\n",
       "      <td>National: David Alejandro Velez Sanchez (MEX)</td>\n",
       "      <td>He was inspired by the Disney animated movie R...</td>\n",
       "      <td>NaN</td>\n",
       "      <td>NaN</td>\n",
       "      <td>NaN</td>\n",
       "      <td>NaN</td>\n",
       "      <td>NaN</td>\n",
       "      <td>NaN</td>\n",
       "    </tr>\n",
       "    <tr>\n",
       "      <th>4</th>\n",
       "      <td>1536467</td>\n",
       "      <td>MARTINEZ WING Bruno</td>\n",
       "      <td>MARTINEZ WING B</td>\n",
       "      <td>Bruno MARTINEZ WING</td>\n",
       "      <td>Male</td>\n",
       "      <td>Athlete</td>\n",
       "      <td>MEX</td>\n",
       "      <td>Mexico</td>\n",
       "      <td>Mexico</td>\n",
       "      <td>Mexico</td>\n",
       "      <td>...</td>\n",
       "      <td>Partner, Karla. One son (born October 2022)</td>\n",
       "      <td>Spanish</td>\n",
       "      <td>National: David Alejandro Velez Sanchez (MEX)</td>\n",
       "      <td>NaN</td>\n",
       "      <td>NaN</td>\n",
       "      <td>NaN</td>\n",
       "      <td>NaN</td>\n",
       "      <td>NaN</td>\n",
       "      <td>NaN</td>\n",
       "      <td>NaN</td>\n",
       "    </tr>\n",
       "  </tbody>\n",
       "</table>\n",
       "<p>5 rows × 35 columns</p>\n",
       "</div>"
      ],
      "text/plain": [
       "      code                 name       name_short              name_tv  gender  \\\n",
       "0  1535420   VALENCIA Alejandra       VALENCIA A   Alejandra VALENCIA  Female   \n",
       "1  1535429          RUIZ Angela           RUIZ A          Angela RUIZ  Female   \n",
       "2  1535430        GRANDE Matias         GRANDE M        Matias GRANDE    Male   \n",
       "3  1536460         ROJAS Carlos          ROJAS C         Carlos ROJAS    Male   \n",
       "4  1536467  MARTINEZ WING Bruno  MARTINEZ WING B  Bruno MARTINEZ WING    Male   \n",
       "\n",
       "  function country_code country country_full nationality  ...  \\\n",
       "0  Athlete          MEX  Mexico       Mexico      Mexico  ...   \n",
       "1  Athlete          MEX  Mexico       Mexico      Mexico  ...   \n",
       "2  Athlete          MEX  Mexico       Mexico      Mexico  ...   \n",
       "3  Athlete          MEX  Mexico       Mexico      Mexico  ...   \n",
       "4  Athlete          MEX  Mexico       Mexico      Mexico  ...   \n",
       "\n",
       "                                              family              lang  \\\n",
       "0  Father, Francisco Ramon Valencia Fontes. Mothe...           Spanish   \n",
       "1                                       Two brothers  English, Spanish   \n",
       "2                                    Father, Nicolas           Spanish   \n",
       "3                                                NaN   German, Spanish   \n",
       "4        Partner, Karla. One son (born October 2022)           Spanish   \n",
       "\n",
       "                                               coach  \\\n",
       "0       National/personal: Miguel Angel Flores (MEX)   \n",
       "1  National: Miguel Angel Flores (MEX).<br>Person...   \n",
       "2      National: David Alejandro Velez Sanchez (MEX)   \n",
       "3      National: David Alejandro Velez Sanchez (MEX)   \n",
       "4      National: David Alejandro Velez Sanchez (MEX)   \n",
       "\n",
       "                                              reason hero influence  \\\n",
       "0  Grew up close to an archery range and was alwa...  NaN       NaN   \n",
       "1             She followed her brothers into archery  NaN       NaN   \n",
       "2  His father introduced him to the sport and the...  NaN       NaN   \n",
       "3  He was inspired by the Disney animated movie R...  NaN       NaN   \n",
       "4                                                NaN  NaN       NaN   \n",
       "\n",
       "  philosophy sporting_relatives ritual other_sports  \n",
       "0        NaN                NaN    NaN          NaN  \n",
       "1        NaN                NaN    NaN          NaN  \n",
       "2        NaN                NaN    NaN          NaN  \n",
       "3        NaN                NaN    NaN          NaN  \n",
       "4        NaN                NaN    NaN          NaN  \n",
       "\n",
       "[5 rows x 35 columns]"
      ]
     },
     "execution_count": 38,
     "metadata": {},
     "output_type": "execute_result"
    }
   ],
   "source": [
    "athletes_df.head()"
   ]
  },
  {
   "cell_type": "markdown",
   "metadata": {},
   "source": [
    "Next '.shape' to determine the size of the data"
   ]
  },
  {
   "cell_type": "code",
   "execution_count": 39,
   "metadata": {},
   "outputs": [
    {
     "data": {
      "text/plain": [
       "(11115, 35)"
      ]
     },
     "execution_count": 39,
     "metadata": {},
     "output_type": "execute_result"
    }
   ],
   "source": [
    "athletes_df.shape"
   ]
  },
  {
   "cell_type": "markdown",
   "metadata": {},
   "source": [
    "'.info()' to see what data types are present and the different columns available. Notice the datatype for date fields. These will need to be corrected later if used in an analysis."
   ]
  },
  {
   "cell_type": "code",
   "execution_count": 40,
   "metadata": {},
   "outputs": [
    {
     "name": "stdout",
     "output_type": "stream",
     "text": [
      "<class 'pandas.core.frame.DataFrame'>\n",
      "RangeIndex: 11115 entries, 0 to 11114\n",
      "Data columns (total 35 columns):\n",
      " #   Column              Non-Null Count  Dtype  \n",
      "---  ------              --------------  -----  \n",
      " 0   code                11115 non-null  int64  \n",
      " 1   name                11115 non-null  object \n",
      " 2   name_short          11115 non-null  object \n",
      " 3   name_tv             11115 non-null  object \n",
      " 4   gender              11115 non-null  object \n",
      " 5   function            11115 non-null  object \n",
      " 6   country_code        11115 non-null  object \n",
      " 7   country             11115 non-null  object \n",
      " 8   country_full        11115 non-null  object \n",
      " 9   nationality         11098 non-null  object \n",
      " 10  nationality_full    11098 non-null  object \n",
      " 11  nationality_code    11098 non-null  object \n",
      " 12  height              11115 non-null  int64  \n",
      " 13  weight              11099 non-null  float64\n",
      " 14  disciplines         11115 non-null  object \n",
      " 15  events              11115 non-null  object \n",
      " 16  birth_date          11115 non-null  object \n",
      " 17  birth_place         8718 non-null   object \n",
      " 18  birth_country       9466 non-null   object \n",
      " 19  residence_place     6794 non-null   object \n",
      " 20  residence_country   8281 non-null   object \n",
      " 21  nickname            2965 non-null   object \n",
      " 22  hobbies             4202 non-null   object \n",
      " 23  occupation          9576 non-null   object \n",
      " 24  education           5532 non-null   object \n",
      " 25  family              5560 non-null   object \n",
      " 26  lang                10592 non-null  object \n",
      " 27  coach               8216 non-null   object \n",
      " 28  reason              5841 non-null   object \n",
      " 29  hero                3314 non-null   object \n",
      " 30  influence           2153 non-null   object \n",
      " 31  philosophy          2781 non-null   object \n",
      " 32  sporting_relatives  2519 non-null   object \n",
      " 33  ritual              856 non-null    object \n",
      " 34  other_sports        1057 non-null   object \n",
      "dtypes: float64(1), int64(2), object(32)\n",
      "memory usage: 3.0+ MB\n"
     ]
    }
   ],
   "source": [
    "athletes_df.info()"
   ]
  },
  {
   "cell_type": "markdown",
   "metadata": {},
   "source": [
    "'.isnull().sum()' to see how many null values are present if any"
   ]
  },
  {
   "cell_type": "code",
   "execution_count": 41,
   "metadata": {},
   "outputs": [
    {
     "data": {
      "text/plain": [
       "code                      0\n",
       "name                      0\n",
       "name_short                0\n",
       "name_tv                   0\n",
       "gender                    0\n",
       "function                  0\n",
       "country_code              0\n",
       "country                   0\n",
       "country_full              0\n",
       "nationality              17\n",
       "nationality_full         17\n",
       "nationality_code         17\n",
       "height                    0\n",
       "weight                   16\n",
       "disciplines               0\n",
       "events                    0\n",
       "birth_date                0\n",
       "birth_place            2397\n",
       "birth_country          1649\n",
       "residence_place        4321\n",
       "residence_country      2834\n",
       "nickname               8150\n",
       "hobbies                6913\n",
       "occupation             1539\n",
       "education              5583\n",
       "family                 5555\n",
       "lang                    523\n",
       "coach                  2899\n",
       "reason                 5274\n",
       "hero                   7801\n",
       "influence              8962\n",
       "philosophy             8334\n",
       "sporting_relatives     8596\n",
       "ritual                10259\n",
       "other_sports          10058\n",
       "dtype: int64"
      ]
     },
     "execution_count": 41,
     "metadata": {},
     "output_type": "execute_result"
    }
   ],
   "source": [
    "athletes_df.isnull().sum()"
   ]
  },
  {
   "cell_type": "markdown",
   "metadata": {},
   "source": [
    "Due to many missing data we must consider what we can actually perform an analysis of. Many of these nulls are insignificant and will not harm the exploratory data analysis steps. For this reason they will be ignored and left in place, however, it is important to note their presence and refer back to this when we begin analyzing the athletes."
   ]
  },
  {
   "cell_type": "markdown",
   "metadata": {},
   "source": [
    "The first thing I am interested in is the distribution of athletes by gender."
   ]
  },
  {
   "cell_type": "code",
   "execution_count": 42,
   "metadata": {},
   "outputs": [
    {
     "data": {
      "text/plain": [
       "gender\n",
       "Male      5655\n",
       "Female    5460\n",
       "Name: count, dtype: int64"
      ]
     },
     "execution_count": 42,
     "metadata": {},
     "output_type": "execute_result"
    }
   ],
   "source": [
    "athletes_df['gender'].value_counts()"
   ]
  },
  {
   "cell_type": "code",
   "execution_count": 43,
   "metadata": {},
   "outputs": [
    {
     "data": {
      "text/plain": [
       "count     11115\n",
       "unique        2\n",
       "top        Male\n",
       "freq       5655\n",
       "Name: gender, dtype: object"
      ]
     },
     "execution_count": 43,
     "metadata": {},
     "output_type": "execute_result"
    }
   ],
   "source": [
    "athletes_df['gender'].describe()"
   ]
  },
  {
   "cell_type": "markdown",
   "metadata": {},
   "source": [
    "Visualizing this Distribution"
   ]
  },
  {
   "cell_type": "code",
   "execution_count": 44,
   "metadata": {},
   "outputs": [
    {
     "data": {
      "image/png": "[encoded data removed]",
      "text/plain": [
       "<Figure size 1200x600 with 1 Axes>"
      ]
     },
     "metadata": {},
     "output_type": "display_data"
    }
   ],
   "source": [
    "plt.figure(figsize=(12,6))\n",
    "sns.countplot(data=athletes_df, x='gender', hue='gender', palette='Set2')\n",
    "plt.title('Athletes by Gender')\n",
    "plt.xlabel('Gender')\n",
    "plt.ylabel('Count')\n",
    "plt.xticks(rotation=45, ha='right')\n",
    "plt.show()"
   ]
  }
 ],
 "metadata": {
  "kernelspec": {
   "display_name": "Python 3",
   "language": "python",
   "name": "python3"
  },
  "language_info": {
   "codemirror_mode": {
    "name": "ipython",
    "version": 3
   },
   "file_extension": ".py",
   "mimetype": "text/x-python",
   "name": "python",
   "nbconvert_exporter": "python",
   "pygments_lexer": "ipython3",
   "version": "3.11.9"
  }
 },
 "nbformat": 4,
 "nbformat_minor": 2
}
